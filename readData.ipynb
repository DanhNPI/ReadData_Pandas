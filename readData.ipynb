{
 "cells": [
  {
   "cell_type": "markdown",
   "metadata": {},
   "source": [
    "## 1. Read file CSV"
   ]
  },
  {
   "cell_type": "code",
   "execution_count": 1,
   "metadata": {},
   "outputs": [
    {
     "name": "stdout",
     "output_type": "stream",
     "text": [
      "              Place  ProductId    ProductName  UmId UmName  Month  Year  \\\n",
      "0  National Average         52  Rice - Retail     5     KG      5  2013   \n",
      "1  National Average         52  Rice - Retail     5     KG      6  2013   \n",
      "2  National Average         52  Rice - Retail     5     KG     11  2013   \n",
      "3  National Average         52  Rice - Retail     5     KG     12  2013   \n",
      "4  National Average         52  Rice - Retail     5     KG      1  2014   \n",
      "\n",
      "    Price  \n",
      "0  4.4920  \n",
      "1  4.5786  \n",
      "2  4.7865  \n",
      "3  5.1337  \n",
      "4  5.5099  \n"
     ]
    }
   ],
   "source": [
    "# Thêm thư viện pandas\n",
    "import pandas as pd\n",
    "\n",
    "data = pd.read_csv('./FoodPrice_in_Turkey.csv', encoding= 'ISO-8859-1')\n",
    "print (data.head())"
   ]
  }
 ],
 "metadata": {
  "kernelspec": {
   "display_name": "Python 3.10.2 64-bit",
   "language": "python",
   "name": "python3"
  },
  "language_info": {
   "codemirror_mode": {
    "name": "ipython",
    "version": 3
   },
   "file_extension": ".py",
   "mimetype": "text/x-python",
   "name": "python",
   "nbconvert_exporter": "python",
   "pygments_lexer": "ipython3",
   "version": "3.10.2"
  },
  "orig_nbformat": 4,
  "vscode": {
   "interpreter": {
    "hash": "41cedb187d78d81e20b9634a9e1e717e0ac926d1a4a4ecd20da710c9472f453b"
   }
  }
 },
 "nbformat": 4,
 "nbformat_minor": 2
}
