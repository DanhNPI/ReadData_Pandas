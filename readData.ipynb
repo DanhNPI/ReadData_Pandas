{
 "cells": [
  {
   "cell_type": "markdown",
   "metadata": {},
   "source": [
    "## 1. Read file CSV"
   ]
  },
  {
   "cell_type": "code",
   "execution_count": 1,
   "metadata": {},
   "outputs": [
    {
     "name": "stdout",
     "output_type": "stream",
     "text": [
      "              Place  ProductId    ProductName  UmId UmName  Month  Year  \\\n",
      "0  National Average         52  Rice - Retail     5     KG      5  2013   \n",
      "1  National Average         52  Rice - Retail     5     KG      6  2013   \n",
      "2  National Average         52  Rice - Retail     5     KG     11  2013   \n",
      "3  National Average         52  Rice - Retail     5     KG     12  2013   \n",
      "4  National Average         52  Rice - Retail     5     KG      1  2014   \n",
      "\n",
      "    Price  \n",
      "0  4.4920  \n",
      "1  4.5786  \n",
      "2  4.7865  \n",
      "3  5.1337  \n",
      "4  5.5099  \n"
     ]
    }
   ],
   "source": [
    "# Thêm thư viện pandas\n",
    "import pandas as pd\n",
    "\n",
    "data = pd.read_csv('./FoodPrice_in_Turkey.csv', encoding= 'ISO-8859-1', sep=',')\n",
    "print (data.head())"
   ]
  },
  {
   "cell_type": "markdown",
   "metadata": {},
   "source": [
    "## 2. Read file excel"
   ]
  },
  {
   "cell_type": "code",
   "execution_count": 4,
   "metadata": {},
   "outputs": [
    {
     "name": "stdout",
     "output_type": "stream",
     "text": [
      "                                               title  \\\n",
      "0  Bán nhà Trần Quang Diệu mới coong đẹp 50m2x6 t...   \n",
      "1  Bán nhà mặt phố Tây Sơn - 6 tầng. Kinh doanh t...   \n",
      "2  Bán nhà số 36 Đoàn Kết - phố Khâm Thiên - Đống...   \n",
      "3  Bán nhà 6 tầng mới kinh doanh mặt ngõ 1194 Đườ...   \n",
      "4  Bán nhà mặt phố Thái Hà 70m2, 5 tầng, 4.5m mặt...   \n",
      "\n",
      "                                             address  area    price  \\\n",
      "0  Đường Trần Quang Diệu, Phường Trung Liệt, Đốn...  50.0  14700.0   \n",
      "1  Đường Tây Sơn, Phường Trung Liệt, Đống Đa, Hà...  35.0  12500.0   \n",
      "2  Số 36 Đoàn Kết, Phố Khâm Thiên, Phường Thổ Qu...  57.0   4200.0   \n",
      "3  Ngõ 1194, Đường Láng, Phường Láng Thượng, Đố...  62.0  11000.0   \n",
      "4   Phố Thái Hà, Phường Trung Liệt, Đống Đa, Hà Nội  70.0  36000.0   \n",
      "\n",
      "    postDate land_certificate house_direction balcony_direction  toilet  \\\n",
      "0 2021-01-01            Sổ đỏ             NaN               NaN     4.0   \n",
      "1 2021-02-19            Sổ đỏ             NaN               NaN     NaN   \n",
      "2 2021-03-10            Sổ đỏ             Nam               Nam     3.0   \n",
      "3 2021-03-13            Sổ đỏ            Đông          Đông-Nam     6.0   \n",
      "4 2021-03-13            Sổ đỏ             NaN               NaN     NaN   \n",
      "\n",
      "   bedroom  floor        type_of_land            street_name  \\\n",
      "0      6.0    6.0    Bán nhà riêng\\n   Đường Trần Quang Diệu   \n",
      "1      NaN    6.0  Bán nhà mặt phố\\n          Phố Trung Liệt   \n",
      "2      8.0    4.0    Bán nhà riêng\\n          Phố Khâm Thiên   \n",
      "3      5.0    6.0    Bán nhà riêng\\n       Đường Láng Thượng   \n",
      "4      6.0    5.0  Bán nhà mặt phố\\n          Phố Trung Liệt   \n",
      "\n",
      "            ward_name district_name         city_name        lat        long  \n",
      "0   Phường Trung Liệt  Quận Đống Đa  Thành phố Hà Nội  21.015698  105.824583  \n",
      "1   Phường Trung Liệt  Quận Đống Đa  Thành phố Hà Nội  21.008930  105.824105  \n",
      "2   Phường Khâm Thiên  Quận Đống Đa  Thành phố Hà Nội  21.025208  105.833111  \n",
      "3  Phường Láng Thượng  Quận Đống Đa  Thành phố Hà Nội  21.025379  105.801011  \n",
      "4   Phường Trung Liệt  Quận Đống Đa  Thành phố Hà Nội  21.009239  105.824230  \n"
     ]
    },
    {
     "name": "stderr",
     "output_type": "stream",
     "text": [
      "d:\\05. Python\\00. Setting file\\Python 3\\lib\\site-packages\\openpyxl\\worksheet\\_reader.py:312: UserWarning: Unknown extension is not supported and will be removed\n",
      "  warn(msg)\n"
     ]
    }
   ],
   "source": [
    "import pandas as pd\n",
    "\n",
    "df = pd.read_excel('house_price_dống-da.xlsx')\n",
    "print(df.head())"
   ]
  },
  {
   "cell_type": "markdown",
   "metadata": {},
   "source": [
    "## 3. Write file csv, excel, json, HDF5, HTML"
   ]
  },
  {
   "cell_type": "code",
   "execution_count": 11,
   "metadata": {},
   "outputs": [
    {
     "name": "stdout",
     "output_type": "stream",
     "text": [
      "              Place  ProductId    ProductName  UmId UmName  Month  Year  \\\n",
      "0  National Average         52  Rice - Retail     5     KG      5  2013   \n",
      "1  National Average         52  Rice - Retail     5     KG      6  2013   \n",
      "2  National Average         52  Rice - Retail     5     KG     11  2013   \n",
      "3  National Average         52  Rice - Retail     5     KG     12  2013   \n",
      "4  National Average         52  Rice - Retail     5     KG      1  2014   \n",
      "\n",
      "    Price  \n",
      "0  4.4920  \n",
      "1  4.5786  \n",
      "2  4.7865  \n",
      "3  5.1337  \n",
      "4  5.5099  \n"
     ]
    }
   ],
   "source": [
    "# Thêm thư viện pandas\n",
    "import pandas as pd\n",
    "\n",
    "data = pd.read_csv('./FoodPrice_in_Turkey.csv', encoding= 'ISO-8859-1', sep=',')\n",
    "print (data.head())\n",
    "\n",
    "# Ghi ra file CSV\n",
    "data.to_csv('demo_FoodPrice.csv')\n",
    "\n",
    "# Ghi ra file excel\n",
    "data.to_excel('demo_FoodPrice.xlsx')\n",
    "\n",
    "# Ghi ra file json\n",
    "data.to_json('demo_FoodPrice.json', orient='records')\n",
    "\n",
    "# Ghi ra file HTML\n",
    "data.to_html('demo_FoodPrice.html')"
   ]
  }
 ],
 "metadata": {
  "kernelspec": {
   "display_name": "Python 3.10.2 64-bit",
   "language": "python",
   "name": "python3"
  },
  "language_info": {
   "codemirror_mode": {
    "name": "ipython",
    "version": 3
   },
   "file_extension": ".py",
   "mimetype": "text/x-python",
   "name": "python",
   "nbconvert_exporter": "python",
   "pygments_lexer": "ipython3",
   "version": "3.10.2"
  },
  "orig_nbformat": 4,
  "vscode": {
   "interpreter": {
    "hash": "41cedb187d78d81e20b9634a9e1e717e0ac926d1a4a4ecd20da710c9472f453b"
   }
  }
 },
 "nbformat": 4,
 "nbformat_minor": 2
}
